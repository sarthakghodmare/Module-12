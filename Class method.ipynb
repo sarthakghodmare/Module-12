{
 "cells": [
  {
   "cell_type": "code",
   "execution_count": 1,
   "id": "4a14c186-5823-4045-8764-571406b39cc5",
   "metadata": {},
   "outputs": [],
   "source": [
    "#how is different from instance."
   ]
  },
  {
   "cell_type": "code",
   "execution_count": 2,
   "id": "481a46b2-9271-48d1-be44-beba972322c3",
   "metadata": {},
   "outputs": [],
   "source": [
    "class pwskills:\n",
    "    def __init__(self,name ,email):\n",
    "        self.name=name\n",
    "        self.email=email\n",
    "        \n",
    "    def student_details(self):  #how we do this in differnt method.\n",
    "        print(self.name,self.email)\n",
    "        "
   ]
  },
  {
   "cell_type": "code",
   "execution_count": 3,
   "id": "a8de4119-d611-434d-8d8e-374cf6d89cc9",
   "metadata": {},
   "outputs": [],
   "source": [
    "pw=pwskills(\"mohan\",\"mohan@gmail.com\")"
   ]
  },
  {
   "cell_type": "code",
   "execution_count": 5,
   "id": "1f877882-a438-4197-99d0-74d89f25b87c",
   "metadata": {},
   "outputs": [
    {
     "data": {
      "text/plain": [
       "'mohan'"
      ]
     },
     "execution_count": 5,
     "metadata": {},
     "output_type": "execute_result"
    }
   ],
   "source": [
    "pw.name"
   ]
  },
  {
   "cell_type": "code",
   "execution_count": 6,
   "id": "fbc36cd4-5438-4108-8cc2-fa4dd8feba43",
   "metadata": {},
   "outputs": [
    {
     "data": {
      "text/plain": [
       "'mohan@gmail.com'"
      ]
     },
     "execution_count": 6,
     "metadata": {},
     "output_type": "execute_result"
    }
   ],
   "source": [
    "pw.email"
   ]
  },
  {
   "cell_type": "code",
   "execution_count": 8,
   "id": "0860ea3b-1654-4dc5-983b-f3f131f71309",
   "metadata": {},
   "outputs": [
    {
     "name": "stdout",
     "output_type": "stream",
     "text": [
      "mohan mohan@gmail.com\n"
     ]
    }
   ],
   "source": [
    "pw.student_details()"
   ]
  },
  {
   "cell_type": "code",
   "execution_count": 11,
   "id": "6b6932d3-a619-4212-b465-960276a0f2c7",
   "metadata": {},
   "outputs": [],
   "source": [
    "class pwskills1:\n",
    "    def __init__(self,name ,email):\n",
    "        self.name=name\n",
    "        self.email=email #for init we have to crete object\n",
    "    \n",
    "    @classmethod #this decorator is alerady is avialable in python.it is special type of function used to dectore below function.\n",
    "    def details(cls, name,email):#we didnot pass first argument as self.\n",
    "        return cls(name,email) #instead calling __intit method we can call this  class method.and without creting object we can pass data in class method.this is class method we can access this with class name pwskiklls1.\n",
    "    \n",
    "        \n",
    "    def student_details(self):  \n",
    "        print(self.name,self.email)"
   ]
  },
  {
   "cell_type": "code",
   "execution_count": 12,
   "id": "e7037334-1abc-47de-948c-e581df839b91",
   "metadata": {},
   "outputs": [
    {
     "ename": "TypeError",
     "evalue": "pwskills1.details() missing 2 required positional arguments: 'name' and 'email'",
     "output_type": "error",
     "traceback": [
      "\u001b[0;31m---------------------------------------------------------------------------\u001b[0m",
      "\u001b[0;31mTypeError\u001b[0m                                 Traceback (most recent call last)",
      "Cell \u001b[0;32mIn[12], line 1\u001b[0m\n\u001b[0;32m----> 1\u001b[0m \u001b[43mpwskills1\u001b[49m\u001b[38;5;241;43m.\u001b[39;49m\u001b[43mdetails\u001b[49m\u001b[43m(\u001b[49m\u001b[43m)\u001b[49m\n",
      "\u001b[0;31mTypeError\u001b[0m: pwskills1.details() missing 2 required positional arguments: 'name' and 'email'"
     ]
    }
   ],
   "source": [
    "pwskills1.details()"
   ]
  },
  {
   "cell_type": "code",
   "execution_count": 15,
   "id": "7cc3a433-e6ef-4b8d-aa9f-94447f655824",
   "metadata": {},
   "outputs": [],
   "source": [
    "pw1=pwskills1.details(\"sarthak\",\"sarthak@gmail.com\") #this data is passed to class method, \"store in varible pw1\"\n"
   ]
  },
  {
   "cell_type": "code",
   "execution_count": 16,
   "id": "0b7318a5-886e-4487-ad05-0ac5c84d75ed",
   "metadata": {},
   "outputs": [
    {
     "data": {
      "text/plain": [
       "'sarthak'"
      ]
     },
     "execution_count": 16,
     "metadata": {},
     "output_type": "execute_result"
    }
   ],
   "source": [
    "pw1.name #by doesnot creting object we can pass name and emial.basically we overload init method even without creting an object."
   ]
  },
  {
   "cell_type": "code",
   "execution_count": 17,
   "id": "061d462c-fe0f-4674-8750-e2aa25095c64",
   "metadata": {},
   "outputs": [
    {
     "data": {
      "text/plain": [
       "'sarthak@gmail.com'"
      ]
     },
     "execution_count": 17,
     "metadata": {},
     "output_type": "execute_result"
    }
   ],
   "source": [
    "pw1.email"
   ]
  },
  {
   "cell_type": "code",
   "execution_count": 18,
   "id": "b2986ca7-2e41-46d7-a022-bfb5d88e17d6",
   "metadata": {},
   "outputs": [],
   "source": [
    "#how we generally call student detials, we first of all we crete object for student details and access them.but in class method we dont crete obj.inclass method we cleraruy acceesss student_details without creting obj."
   ]
  },
  {
   "cell_type": "code",
   "execution_count": 19,
   "id": "0e98b1a6-137f-4869-9118-0adfc1c6ef7c",
   "metadata": {},
   "outputs": [
    {
     "name": "stdout",
     "output_type": "stream",
     "text": [
      "sarthak sarthak@gmail.com\n"
     ]
    }
   ],
   "source": [
    "pw1.student_details()"
   ]
  },
  {
   "cell_type": "code",
   "execution_count": 27,
   "id": "e0ea520c-a995-42fb-9106-949c00fcccd9",
   "metadata": {},
   "outputs": [],
   "source": [
    "class pwskills2:\n",
    "    \n",
    "    mobile_number=324543115455 #basiclly it is class variable it does not crete in other method is creted in class.how will acess this with the help of class name.\n",
    "    \n",
    "    \n",
    "    def __init__(self,name ,email):\n",
    "        self.name=name\n",
    "        self.email=email \n",
    "    \n",
    "    @classmethod \n",
    "    def change_mobile_number(cls,mobile): #whwever we call change_mobile_number function with the help of mobile function. we are able to change the value for variable of class.but for this we have define @class method.if we do not crete class method then we have to create obj.\n",
    "        pwskills2.mobile_number=mobile \n",
    "        \n",
    "    \n",
    "    @classmethod \n",
    "    def details(cls, name,email): #bind with cls ,cls is used to bind with class.in class method.\n",
    "        return cls(name,email) \n",
    "    \n",
    "        \n",
    "    def student_details(self):  \n",
    "        print(self.name,self.email,pwskills2.mobile_number) #we do not  want to give self here in moble_number because it is associate with class."
   ]
  },
  {
   "cell_type": "code",
   "execution_count": 23,
   "id": "31326e80-04ab-49f8-9534-49b33e7bd95d",
   "metadata": {},
   "outputs": [
    {
     "data": {
      "text/plain": [
       "324543115455"
      ]
     },
     "execution_count": 23,
     "metadata": {},
     "output_type": "execute_result"
    }
   ],
   "source": [
    "pwskills2.mobile_number"
   ]
  },
  {
   "cell_type": "code",
   "execution_count": 25,
   "id": "9969e3ac-4ac5-49e6-9704-8521733bf0f9",
   "metadata": {},
   "outputs": [],
   "source": [
    "pwskills2.change_mobile_number(913051166)"
   ]
  },
  {
   "cell_type": "code",
   "execution_count": 26,
   "id": "95108a43-f312-4409-bad0-b908ba311b12",
   "metadata": {},
   "outputs": [
    {
     "data": {
      "text/plain": [
       "913051166"
      ]
     },
     "execution_count": 26,
     "metadata": {},
     "output_type": "execute_result"
    }
   ],
   "source": [
    "pwskills2.mobile_number"
   ]
  },
  {
   "cell_type": "code",
   "execution_count": 28,
   "id": "1ce7a8a7-b272-49d6-8708-75c0702b03a2",
   "metadata": {},
   "outputs": [],
   "source": [
    "#with help of class method we are able to pass a data , we can access and mofified class variable."
   ]
  },
  {
   "cell_type": "code",
   "execution_count": 31,
   "id": "081571a2-6b82-457b-8c6f-c92ac98f6cc2",
   "metadata": {},
   "outputs": [],
   "source": [
    "#to acess student_detilas first method is to crete obj\n",
    "pw_obj=pwskills2(\"sarthak\",\"sarthak@gmail.com\")"
   ]
  },
  {
   "cell_type": "code",
   "execution_count": 32,
   "id": "738adcea-5929-4d0e-b2d9-ac3ba3971a12",
   "metadata": {},
   "outputs": [
    {
     "name": "stdout",
     "output_type": "stream",
     "text": [
      "sarthak sarthak@gmail.com 324543115455\n"
     ]
    }
   ],
   "source": [
    "pw_obj.student_details()"
   ]
  },
  {
   "cell_type": "code",
   "execution_count": 33,
   "id": "e0b0112c-1e5b-4140-bbf9-cf58b59f4523",
   "metadata": {},
   "outputs": [
    {
     "name": "stdout",
     "output_type": "stream",
     "text": [
      "rohan rahan@gmail.com 324543115455\n"
     ]
    }
   ],
   "source": [
    "#second method to access is class method.\n",
    "pw=pwskills2.details(\"rohan\",\"rahan@gmail.com\") #pw is variable,by using class method we can acess class variable . then it is called concept of overloadding in this case we overload init.\n",
    "pw.student_details()"
   ]
  },
  {
   "cell_type": "code",
   "execution_count": 4,
   "id": "8aa59b8d-4661-4505-b39b-c262510112c8",
   "metadata": {},
   "outputs": [],
   "source": [
    "class pwskills3:\n",
    "    \n",
    "    mobile_number=324543115455 \n",
    "    \n",
    "    \n",
    "    def __init__(self,name ,email):\n",
    "        self.name=name\n",
    "        self.email=email \n",
    "    \n",
    "    \n",
    "    @classmethod \n",
    "    def change_mobile_number(cls,mobile): \n",
    "        pwskills2.mobile_number=mobile \n",
    "        \n",
    "    \n",
    "    @classmethod \n",
    "    def details(cls, name,email): \n",
    "        return cls(name,email) \n",
    "    \n",
    "        \n",
    "    def student_details(self):  \n",
    "        print(self.name,self.email,pwskills2.mobile_number) "
   ]
  },
  {
   "cell_type": "code",
   "execution_count": 5,
   "id": "15d6ef8e-091b-4487-a688-5419bed05f35",
   "metadata": {},
   "outputs": [],
   "source": [
    "def course_details(cls,course_name):#extrnal function.we have to add with class .  class method can associate with extrenal function.\n",
    "    print(\"course name is:\",course_name)\n",
    "    "
   ]
  },
  {
   "cell_type": "code",
   "execution_count": 6,
   "id": "17b62ebb-b761-4f8a-a0ce-337a84ce9883",
   "metadata": {},
   "outputs": [],
   "source": [
    "pwskills3.course_details=classmethod(course_details) #addinjg with class method"
   ]
  },
  {
   "cell_type": "code",
   "execution_count": 8,
   "id": "7203487b-aea4-4f23-abaa-24579cd9e407",
   "metadata": {},
   "outputs": [
    {
     "name": "stdout",
     "output_type": "stream",
     "text": [
      "course name is: data science master\n"
     ]
    }
   ],
   "source": [
    "pwskills3.course_details(\"data science master\")"
   ]
  },
  {
   "cell_type": "code",
   "execution_count": 11,
   "id": "92a6c7e4-5339-4c67-9e56-f20d8152cd9a",
   "metadata": {},
   "outputs": [],
   "source": [
    "def mentor(cls,list_of_mentor):\n",
    "    print(\"list of mentor is:\",list_of_mentor)"
   ]
  },
  {
   "cell_type": "code",
   "execution_count": 13,
   "id": "8d55e4b9-483a-46a5-9d5e-e88c89aa1282",
   "metadata": {},
   "outputs": [],
   "source": [
    "pwskills3.list_of_mentor=classmethod(mentor)"
   ]
  },
  {
   "cell_type": "code",
   "execution_count": 15,
   "id": "271e354d-2f75-4c7b-86cb-837ae515d86f",
   "metadata": {},
   "outputs": [
    {
     "name": "stdout",
     "output_type": "stream",
     "text": [
      "list of mentor is: ['sarthak', 'kris']\n"
     ]
    }
   ],
   "source": [
    "pwskills3.list_of_mentor([\"sarthak\",\"kris\"])"
   ]
  },
  {
   "cell_type": "code",
   "execution_count": 21,
   "id": "820feb74-9e01-4133-b0cb-9a2ef261f4eb",
   "metadata": {},
   "outputs": [],
   "source": [
    "class pwskills4:\n",
    "    \n",
    "    mobile_number=324543115455 \n",
    "    \n",
    "    \n",
    "    def __init__(self,name ,email):\n",
    "        self.name=name\n",
    "        self.email=email \n",
    "    \n",
    "    \n",
    "    @classmethod \n",
    "    def change_mobile_number(cls,mobile): \n",
    "        pwskills2.mobile_number=mobile \n",
    "        \n",
    "    \n",
    "    @classmethod \n",
    "    def details(cls, name,email): \n",
    "        return cls(name,email) \n",
    "    \n",
    "        \n",
    "    def student_details(self):  \n",
    "        print(self.name,self.email,pwskills2.mobile_number) "
   ]
  },
  {
   "cell_type": "code",
   "execution_count": 22,
   "id": "60aa697f-bd62-4e99-bae0-64f36ad498d2",
   "metadata": {},
   "outputs": [],
   "source": [
    "del pwskills4.change_mobile_number#we have delete class function how we do. in this case change_mobli_number is not avialable now."
   ]
  },
  {
   "cell_type": "code",
   "execution_count": 23,
   "id": "9f571472-4cf8-466a-9d46-3aa99a284d91",
   "metadata": {},
   "outputs": [
    {
     "ename": "AttributeError",
     "evalue": "type object 'pwskills4' has no attribute 'change_mobile_number'",
     "output_type": "error",
     "traceback": [
      "\u001b[0;31m---------------------------------------------------------------------------\u001b[0m",
      "\u001b[0;31mAttributeError\u001b[0m                            Traceback (most recent call last)",
      "Cell \u001b[0;32mIn[23], line 1\u001b[0m\n\u001b[0;32m----> 1\u001b[0m \u001b[43mpwskills4\u001b[49m\u001b[38;5;241;43m.\u001b[39;49m\u001b[43mchange_mobile_number\u001b[49m(\u001b[38;5;241m16846384\u001b[39m)\n",
      "\u001b[0;31mAttributeError\u001b[0m: type object 'pwskills4' has no attribute 'change_mobile_number'"
     ]
    }
   ],
   "source": [
    "pwskills4.change_mobile_number(16846384)"
   ]
  },
  {
   "cell_type": "code",
   "execution_count": 25,
   "id": "76330efd-f924-420d-9b7c-eb6b5dcdf16c",
   "metadata": {},
   "outputs": [],
   "source": [
    "#another way to delete ,first of all give delete attribute avilable in python then give classs name and pass a function which we have to dlete gives in string format.\n",
    "delattr(pwskills4,\"details\")"
   ]
  },
  {
   "cell_type": "code",
   "execution_count": 26,
   "id": "3fd7b56c-fe2d-42dd-bb4b-d7ad8bcb6f1a",
   "metadata": {},
   "outputs": [],
   "source": [
    "#can we delte non class method function using delattr.\n",
    "delattr(pwskills4,\"student_details\")#yes we can delete and class method or without class method function using delattr."
   ]
  },
  {
   "cell_type": "code",
   "execution_count": 27,
   "id": "05999215-40fd-4f09-9ea0-e88062856b5c",
   "metadata": {},
   "outputs": [],
   "source": [
    "delattr(pwskills4,\"mobile_number\") #yes we can also delte class variable moblie_number"
   ]
  },
  {
   "cell_type": "code",
   "execution_count": null,
   "id": "e1c2e614-2552-4c89-824f-a7f12c1b51c0",
   "metadata": {},
   "outputs": [],
   "source": []
  }
 ],
 "metadata": {
  "kernelspec": {
   "display_name": "Python 3 (ipykernel)",
   "language": "python",
   "name": "python3"
  },
  "language_info": {
   "codemirror_mode": {
    "name": "ipython",
    "version": 3
   },
   "file_extension": ".py",
   "mimetype": "text/x-python",
   "name": "python",
   "nbconvert_exporter": "python",
   "pygments_lexer": "ipython3",
   "version": "3.10.8"
  }
 },
 "nbformat": 4,
 "nbformat_minor": 5
}
