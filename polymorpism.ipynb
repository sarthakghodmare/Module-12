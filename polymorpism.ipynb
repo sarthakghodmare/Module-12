{
 "cells": [
  {
   "cell_type": "code",
   "execution_count": 1,
   "id": "e21af4b2-8382-4167-98b3-c8ce7ebd6b89",
   "metadata": {},
   "outputs": [],
   "source": [
    "#At a point of time you may be studentr,may be your uncle,brother ,son but your one entity means your boy.\n",
    "#polymorpism means entity having many forms and it behaviour may differnt. roles and resposibilty differnt"
   ]
  },
  {
   "cell_type": "code",
   "execution_count": 2,
   "id": "e728f468-c442-4470-9de1-f00bce4e64fa",
   "metadata": {},
   "outputs": [],
   "source": [
    "def test(a,b): #in function a and b are are arugument\n",
    "    return a+b #return the function"
   ]
  },
  {
   "cell_type": "code",
   "execution_count": 3,
   "id": "47260fdf-afbf-4d99-bc75-19a99a560429",
   "metadata": {},
   "outputs": [
    {
     "data": {
      "text/plain": [
       "7"
      ]
     },
     "execution_count": 3,
     "metadata": {},
     "output_type": "execute_result"
    }
   ],
   "source": [
    "test(3,4)"
   ]
  },
  {
   "cell_type": "code",
   "execution_count": 4,
   "id": "9ebf946e-eb42-4586-b53d-f17d0b8fe536",
   "metadata": {},
   "outputs": [
    {
     "data": {
      "text/plain": [
       "'sarthakghodmare'"
      ]
     },
     "execution_count": 4,
     "metadata": {},
     "output_type": "execute_result"
    }
   ],
   "source": [
    "test(\"sarthak\",\"ghodmare\") #in this case  we pass string it does not perform addition operation it perform concatation operation"
   ]
  },
  {
   "cell_type": "code",
   "execution_count": 4,
   "id": "7bdd016b-3d35-4ebc-a832-1ea860a6abe9",
   "metadata": {},
   "outputs": [],
   "source": [
    "def test(a,b): \n",
    "    return a+b "
   ]
  },
  {
   "cell_type": "code",
   "execution_count": 5,
   "id": "782429b1-c377-4bb5-8dcc-d0f2c375f02e",
   "metadata": {},
   "outputs": [
    {
     "data": {
      "text/plain": [
       "[2, 33, 4, 4, 5, 2]"
      ]
     },
     "execution_count": 5,
     "metadata": {},
     "output_type": "execute_result"
    }
   ],
   "source": [
    "test([2,33,4],[4,5,2]) #list append operation"
   ]
  },
  {
   "cell_type": "code",
   "execution_count": 20,
   "id": "159a4ef7-5e35-479e-88a2-f2110582bbd5",
   "metadata": {},
   "outputs": [],
   "source": [
    "class data_science:\n",
    "    def syllabus(self):\n",
    "        print(\"this is my syllabus for data science\")\n",
    "        "
   ]
  },
  {
   "cell_type": "code",
   "execution_count": 21,
   "id": "7b5d7099-3704-4230-8130-83333a7ef459",
   "metadata": {},
   "outputs": [],
   "source": [
    "class web_dev:\n",
    "    def syllabus(self):\n",
    "        print(\"this is my syllabus for web_dev\")\n",
    "        "
   ]
  },
  {
   "cell_type": "code",
   "execution_count": 22,
   "id": "a5cf999b-1abe-48aa-8f9d-5cd47e41ecb8",
   "metadata": {},
   "outputs": [],
   "source": [
    "def class_parcle(class_obj):\n",
    "    for i in class_obj:\n",
    "        i.syllabus()"
   ]
  },
  {
   "cell_type": "code",
   "execution_count": 23,
   "id": "f13b8f97-cd9e-4633-a94e-2b16537af4d4",
   "metadata": {},
   "outputs": [],
   "source": [
    "data_science= data_science()#creting object\n",
    "web_dev=web_dev()"
   ]
  },
  {
   "cell_type": "code",
   "execution_count": 24,
   "id": "cc101c52-47b9-4447-b48b-6cc8994ef2a3",
   "metadata": {},
   "outputs": [],
   "source": [
    "class_obj=([data_science, web_dev])\n"
   ]
  },
  {
   "cell_type": "code",
   "execution_count": 26,
   "id": "5b722e44-4bab-4c63-9e54-7c61dd052f20",
   "metadata": {},
   "outputs": [
    {
     "name": "stdout",
     "output_type": "stream",
     "text": [
      "this is my syllabus for data science\n",
      "this is my syllabus for web_dev\n"
     ]
    }
   ],
   "source": [
    "class_parcle(class_obj) #calling class _parcle function and pass class_obj  .class_obj takes input as lists in which 2 upper class object is pass,it parces here first parces data_science and then web_dev\n",
    " #in this case class_parcle is sigle entity which has many form data_scince and web"
   ]
  },
  {
   "cell_type": "code",
   "execution_count": null,
   "id": "4f633899-6e54-4ff6-846f-719142896353",
   "metadata": {},
   "outputs": [],
   "source": []
  }
 ],
 "metadata": {
  "kernelspec": {
   "display_name": "Python 3 (ipykernel)",
   "language": "python",
   "name": "python3"
  },
  "language_info": {
   "codemirror_mode": {
    "name": "ipython",
    "version": 3
   },
   "file_extension": ".py",
   "mimetype": "text/x-python",
   "name": "python",
   "nbconvert_exporter": "python",
   "pygments_lexer": "ipython3",
   "version": "3.10.8"
  }
 },
 "nbformat": 4,
 "nbformat_minor": 5
}
