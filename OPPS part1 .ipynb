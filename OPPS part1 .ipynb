{
 "cells": [
  {
   "cell_type": "code",
   "execution_count": 1,
   "id": "e5cb216b-75c3-4dcb-a280-d43f3886a308",
   "metadata": {},
   "outputs": [],
   "source": [
    "a=1"
   ]
  },
  {
   "cell_type": "code",
   "execution_count": 2,
   "id": "3f6bfb55-6b9f-4ba4-8ce5-147732d8c554",
   "metadata": {},
   "outputs": [
    {
     "name": "stdout",
     "output_type": "stream",
     "text": [
      "<class 'int'>\n"
     ]
    }
   ],
   "source": [
    "print(type(a))"
   ]
  },
  {
   "cell_type": "code",
   "execution_count": 3,
   "id": "ace1a1ac-7c3b-4a6f-b411-e726aca20b40",
   "metadata": {},
   "outputs": [],
   "source": [
    "b=\"sarat\""
   ]
  },
  {
   "cell_type": "code",
   "execution_count": 4,
   "id": "8d7dda48-ddd9-4a16-bb44-a1ab38fbb39b",
   "metadata": {},
   "outputs": [
    {
     "name": "stdout",
     "output_type": "stream",
     "text": [
      "<class 'str'>\n"
     ]
    }
   ],
   "source": [
    "print(type(b))"
   ]
  },
  {
   "cell_type": "code",
   "execution_count": null,
   "id": "7ed2d373-22d7-4394-96ac-b7abb7545854",
   "metadata": {},
   "outputs": [],
   "source": [
    "#class is blueprint or skelton of object ,class is classification of reAL WORLS intity\n",
    "# what about object: \"a\" is basically object  of integer class , a is variable of integer class, instance .object is real world intity"
   ]
  },
  {
   "cell_type": "code",
   "execution_count": 5,
   "id": "50029d08-0af8-4323-b53c-0900d35a11ed",
   "metadata": {},
   "outputs": [],
   "source": [
    "#blank class\n",
    "class test:\n",
    "    pass"
   ]
  },
  {
   "cell_type": "code",
   "execution_count": null,
   "id": "3cb9e353-97cd-49b7-bdbb-d855eaf33728",
   "metadata": {},
   "outputs": [],
   "source": [
    "#opps is used to make code structure modular,reusable.optimze.\n",
    "# why we use class?:if we have multiple module such as cloud,frontend ,backend in project. if wed didnt use herirachy in classs then code is in unstructure form,.if anyone want to contribute in project they did not.Then basicllay we use class to make module in structure form orcode in structure form "
   ]
  },
  {
   "cell_type": "code",
   "execution_count": null,
   "id": "1bd6e52b-d225-4d19-ba14-8af8395e2146",
   "metadata": {},
   "outputs": [],
   "source": [
    "#blank class\n",
    "class test:\n",
    "    pass"
   ]
  },
  {
   "cell_type": "code",
   "execution_count": 6,
   "id": "fbbb0e47-9db5-4d0b-8279-5e91817f6a5f",
   "metadata": {},
   "outputs": [],
   "source": [
    "a = test()#object"
   ]
  },
  {
   "cell_type": "code",
   "execution_count": 7,
   "id": "90a0484e-29fc-46cc-9fd6-c6543956cc4f",
   "metadata": {},
   "outputs": [
    {
     "data": {
      "text/plain": [
       "__main__.test"
      ]
     },
     "execution_count": 7,
     "metadata": {},
     "output_type": "execute_result"
    }
   ],
   "source": [
    "type(a)"
   ]
  },
  {
   "cell_type": "code",
   "execution_count": 8,
   "id": "e57b605f-27ab-45cd-b43a-f6a34daef744",
   "metadata": {},
   "outputs": [
    {
     "name": "stdout",
     "output_type": "stream",
     "text": [
      "<class '__main__.test'>\n"
     ]
    }
   ],
   "source": [
    "print(type(a))"
   ]
  },
  {
   "cell_type": "code",
   "execution_count": 13,
   "id": "6ed6c3a3-aee1-40e1-b4c8-262325b26f15",
   "metadata": {},
   "outputs": [],
   "source": [
    "class pwskills:\n",
    "    def welcome_msg(self):\n",
    "        print(\"welcme to pw skills\")"
   ]
  },
  {
   "cell_type": "code",
   "execution_count": 14,
   "id": "637a6d94-82fc-4282-97f9-85a84fe68e26",
   "metadata": {},
   "outputs": [],
   "source": [
    "sarthak=pwskills() #sarthak is variable of class pwskills, it is object"
   ]
  },
  {
   "cell_type": "code",
   "execution_count": 15,
   "id": "0c5ddaac-194c-479f-a6a5-7de40029833b",
   "metadata": {},
   "outputs": [
    {
     "name": "stdout",
     "output_type": "stream",
     "text": [
      "<class '__main__.pwskills'>\n"
     ]
    }
   ],
   "source": [
    "print(type(sarthak))"
   ]
  },
  {
   "cell_type": "code",
   "execution_count": 16,
   "id": "920e3e60-0162-471d-a5b0-c1a13315b008",
   "metadata": {},
   "outputs": [
    {
     "name": "stdout",
     "output_type": "stream",
     "text": [
      "welcme to pw skills\n"
     ]
    }
   ],
   "source": [
    "sarthak.welcome_msg()#in this case function is not bind with class ,that why it shows error,to avoid this give self. ,Function call"
   ]
  },
  {
   "cell_type": "code",
   "execution_count": 17,
   "id": "94bf30c7-0e11-49c4-94e8-d96b65a35b89",
   "metadata": {},
   "outputs": [],
   "source": [
    "utkasrh=pwskills() #class is one but we want to show to differnt people "
   ]
  },
  {
   "cell_type": "code",
   "execution_count": 18,
   "id": "a8d40fa9-f3c4-470b-9d6b-092159835ed6",
   "metadata": {},
   "outputs": [
    {
     "name": "stdout",
     "output_type": "stream",
     "text": [
      "<class '__main__.pwskills'>\n"
     ]
    }
   ],
   "source": [
    "print(type(utkasrh))"
   ]
  },
  {
   "cell_type": "code",
   "execution_count": 19,
   "id": "cdb184d2-9168-41ce-966a-52f73b883ae6",
   "metadata": {},
   "outputs": [
    {
     "name": "stdout",
     "output_type": "stream",
     "text": [
      "welcme to pw skills\n"
     ]
    }
   ],
   "source": [
    "utkasrh.welcome_msg()"
   ]
  },
  {
   "cell_type": "code",
   "execution_count": 1,
   "id": "51268c4d-f695-4a39-87a8-6e8454d49256",
   "metadata": {},
   "outputs": [],
   "source": [
    "class pwsills1: #for specific to object we used  constructor -inti_ is used to pass data in class it is genric class\n",
    "    def  __init__(self,phone_number,student_id,email_id):#it is generic method\n",
    "        self.phone_number=phone_number\n",
    "        self.student_id=student_id\n",
    "        self.email_id=email_id  #self is used bind variable with class,self.phone_number is clas variable\n",
    "        \n",
    "    def return_student_details(self):#creting return function\n",
    "        return self.phone_number,self.student_id, self.email_id\n",
    "          #it is skelton we crete infinite number of object"
   ]
  },
  {
   "cell_type": "code",
   "execution_count": 2,
   "id": "56b757aa-6185-4f17-96a7-7c00debf5848",
   "metadata": {},
   "outputs": [
    {
     "ename": "TypeError",
     "evalue": "pwsills1.__init__() missing 3 required positional arguments: 'phone_number', 'student_id', and 'email_id'",
     "output_type": "error",
     "traceback": [
      "\u001b[0;31m---------------------------------------------------------------------------\u001b[0m",
      "\u001b[0;31mTypeError\u001b[0m                                 Traceback (most recent call last)",
      "Cell \u001b[0;32mIn[2], line 1\u001b[0m\n\u001b[0;32m----> 1\u001b[0m sarthak\u001b[38;5;241m=\u001b[39m \u001b[43mpwsills1\u001b[49m\u001b[43m(\u001b[49m\u001b[43m)\u001b[49m\n",
      "\u001b[0;31mTypeError\u001b[0m: pwsills1.__init__() missing 3 required positional arguments: 'phone_number', 'student_id', and 'email_id'"
     ]
    }
   ],
   "source": [
    "sarthak = pwsills1() #creting obect, in abve example we didnt intisilize inti they didnt not want data in object,in this case it want data"
   ]
  },
  {
   "cell_type": "code",
   "execution_count": 3,
   "id": "3a7b7d14-8a1e-48de-8c7c-b70864d88ac0",
   "metadata": {},
   "outputs": [],
   "source": [
    "sarthak = pwsills1(12334,\"ET21036\",\"sarthak@gmail.com\") #we pass here only sarthak data"
   ]
  },
  {
   "cell_type": "code",
   "execution_count": 17,
   "id": "de2e2284-f6e7-448b-b90b-b719f8d11e54",
   "metadata": {},
   "outputs": [
    {
     "data": {
      "text/plain": [
       "12334"
      ]
     },
     "execution_count": 17,
     "metadata": {},
     "output_type": "execute_result"
    }
   ],
   "source": [
    "sarthak.phone_number #if we want access in clas then we have to  use inti or in this case we doesnot use."
   ]
  },
  {
   "cell_type": "code",
   "execution_count": 18,
   "id": "547ffbcd-3636-409b-be55-1d47841be2f5",
   "metadata": {},
   "outputs": [
    {
     "data": {
      "text/plain": [
       "'ET21036'"
      ]
     },
     "execution_count": 18,
     "metadata": {},
     "output_type": "execute_result"
    }
   ],
   "source": [
    "sarthak.student_id"
   ]
  },
  {
   "cell_type": "code",
   "execution_count": 4,
   "id": "90367d58-27e8-4a81-bc1f-09bb3de0dd16",
   "metadata": {},
   "outputs": [
    {
     "data": {
      "text/plain": [
       "(12334, 'ET21036', 'sarthak@gmail.com')"
      ]
     },
     "execution_count": 4,
     "metadata": {},
     "output_type": "execute_result"
    }
   ],
   "source": [
    "sarthak.return_student_details()"
   ]
  },
  {
   "cell_type": "code",
   "execution_count": 6,
   "id": "77fabf05-ea73-469a-8ed1-eb8bdfb1fd2c",
   "metadata": {},
   "outputs": [],
   "source": [
    "utkarsh =pwsills1(123455,345,\"utkarsh@gmail.com\")"
   ]
  },
  {
   "cell_type": "code",
   "execution_count": 7,
   "id": "568e629c-b172-4ca0-92dd-2b588cecc35c",
   "metadata": {},
   "outputs": [
    {
     "data": {
      "text/plain": [
       "(123455, 345, 'utkarsh@gmail.com')"
      ]
     },
     "execution_count": 7,
     "metadata": {},
     "output_type": "execute_result"
    }
   ],
   "source": [
    "utkarsh.return_student_details()"
   ]
  },
  {
   "cell_type": "code",
   "execution_count": 23,
   "id": "d991024d-fb34-49f5-bbad-3d7bb980310c",
   "metadata": {},
   "outputs": [],
   "source": [
    "class pwsills2: \n",
    "    def  __init__(self,phone_number,student_id,email_id):\n",
    "        self.phone_number1=phone_number\n",
    "        self.student_id1=student_id\n",
    "        self.email_id1=email_id \n",
    "        \n",
    "    def return_student_details(self):#creting return function\n",
    "        return self.phone_number,self.student_id, self.email_id"
   ]
  },
  {
   "cell_type": "code",
   "execution_count": 24,
   "id": "fb693068-30a2-498f-adb0-3bee4db407ad",
   "metadata": {},
   "outputs": [],
   "source": [
    "sar=pwsills2(23213,133,\"sar@gmail.com\")\n"
   ]
  },
  {
   "cell_type": "code",
   "execution_count": 19,
   "id": "708ef4ea-1ce1-407d-bb81-fa2012420548",
   "metadata": {},
   "outputs": [
    {
     "ename": "AttributeError",
     "evalue": "'pwsills2' object has no attribute 'phone_number'",
     "output_type": "error",
     "traceback": [
      "\u001b[0;31m---------------------------------------------------------------------------\u001b[0m",
      "\u001b[0;31mAttributeError\u001b[0m                            Traceback (most recent call last)",
      "Cell \u001b[0;32mIn[19], line 1\u001b[0m\n\u001b[0;32m----> 1\u001b[0m \u001b[43msar\u001b[49m\u001b[38;5;241;43m.\u001b[39;49m\u001b[43mphone_number\u001b[49m\n",
      "\u001b[0;31mAttributeError\u001b[0m: 'pwsills2' object has no attribute 'phone_number'"
     ]
    }
   ],
   "source": [
    "sar.phone_number #clas know the phone number as self.phone_number"
   ]
  },
  {
   "cell_type": "code",
   "execution_count": 25,
   "id": "296c5b50-7b87-420f-9b82-0fdfcdf8895c",
   "metadata": {},
   "outputs": [
    {
     "data": {
      "text/plain": [
       "23213"
      ]
     },
     "execution_count": 25,
     "metadata": {},
     "output_type": "execute_result"
    }
   ],
   "source": [
    "sar.phone_number1"
   ]
  },
  {
   "cell_type": "code",
   "execution_count": 27,
   "id": "e60579a7-1fe5-4259-98b1-55eae871a2eb",
   "metadata": {},
   "outputs": [
    {
     "ename": "AttributeError",
     "evalue": "'pwsills2' object has no attribute 'phone_number'",
     "output_type": "error",
     "traceback": [
      "\u001b[0;31m---------------------------------------------------------------------------\u001b[0m",
      "\u001b[0;31mAttributeError\u001b[0m                            Traceback (most recent call last)",
      "Cell \u001b[0;32mIn[27], line 1\u001b[0m\n\u001b[0;32m----> 1\u001b[0m \u001b[43msar\u001b[49m\u001b[38;5;241;43m.\u001b[39;49m\u001b[43mreturn_student_details\u001b[49m\u001b[43m(\u001b[49m\u001b[43m)\u001b[49m\n",
      "Cell \u001b[0;32mIn[23], line 8\u001b[0m, in \u001b[0;36mpwsills2.return_student_details\u001b[0;34m(self)\u001b[0m\n\u001b[1;32m      7\u001b[0m \u001b[38;5;28;01mdef\u001b[39;00m \u001b[38;5;21mreturn_student_details\u001b[39m(\u001b[38;5;28mself\u001b[39m):\u001b[38;5;66;03m#creting return function\u001b[39;00m\n\u001b[0;32m----> 8\u001b[0m     \u001b[38;5;28;01mreturn\u001b[39;00m \u001b[38;5;28;43mself\u001b[39;49m\u001b[38;5;241;43m.\u001b[39;49m\u001b[43mphone_number\u001b[49m,\u001b[38;5;28mself\u001b[39m\u001b[38;5;241m.\u001b[39mstudent_id, \u001b[38;5;28mself\u001b[39m\u001b[38;5;241m.\u001b[39memail_id\n",
      "\u001b[0;31mAttributeError\u001b[0m: 'pwsills2' object has no attribute 'phone_number'"
     ]
    }
   ],
   "source": [
    "sar.return_student_details()\n",
    "#in return_student_details function in self.phone_number we have to give  self.phone_numbe1\n"
   ]
  },
  {
   "cell_type": "code",
   "execution_count": 30,
   "id": "4f960d49-e48e-49a6-8ae4-55e49b93add0",
   "metadata": {},
   "outputs": [],
   "source": [
    "class pwsills2: \n",
    "    def  __init__(self,phone_number,student_id,email_id):\n",
    "        self.phone_number1=phone_number\n",
    "        self.student_id1=student_id\n",
    "        self.email_id1=email_id \n",
    "        \n",
    "    def return_student_details(self):#creting return function\n",
    "        return self.phone_number1,self.student_id1, self.email_id1"
   ]
  },
  {
   "cell_type": "code",
   "execution_count": 31,
   "id": "a10cfe70-068e-40e0-80be-f738716e8632",
   "metadata": {},
   "outputs": [],
   "source": [
    "sar=pwsills2(23213,133,\"sar@gmail.com\")"
   ]
  },
  {
   "cell_type": "code",
   "execution_count": 32,
   "id": "6d78b40e-dccc-4f19-a5d9-dbb90acfacff",
   "metadata": {},
   "outputs": [
    {
     "data": {
      "text/plain": [
       "(23213, 133, 'sar@gmail.com')"
      ]
     },
     "execution_count": 32,
     "metadata": {},
     "output_type": "execute_result"
    }
   ],
   "source": [
    "sar.return_student_details()"
   ]
  },
  {
   "cell_type": "code",
   "execution_count": 33,
   "id": "9871656b-3656-491c-a9e9-99ebb111365f",
   "metadata": {},
   "outputs": [],
   "source": [
    "class pwsills2: \n",
    "    def  __init__(sar,phone_number,student_id,email_id):\n",
    "        sar.phone_number1=phone_number\n",
    "        sar.student_id1=student_id\n",
    "        sar.email_id1=email_id \n",
    "        \n",
    "    def return_student_details(sar):#creting return function\n",
    "        return sar.phone_number1,sar.student_id1, sar.email_id1"
   ]
  },
  {
   "cell_type": "code",
   "execution_count": 34,
   "id": "30291ca6-7d50-4764-9484-04d299c0dd6b",
   "metadata": {},
   "outputs": [],
   "source": [
    "utkarsh =pwsills2(123455,345,\"utkarsh@gmail.com\")"
   ]
  },
  {
   "cell_type": "code",
   "execution_count": 36,
   "id": "2342ebc1-90fa-4c20-8a32-8759ce372f19",
   "metadata": {},
   "outputs": [
    {
     "data": {
      "text/plain": [
       "123455"
      ]
     },
     "execution_count": 36,
     "metadata": {},
     "output_type": "execute_result"
    }
   ],
   "source": [
    "utkarsh.phone_number1 #self is not reserve keyword we to give first argumnet which behaves as pointer we  give our name we can use anyting to crete a pointer"
   ]
  },
  {
   "cell_type": "code",
   "execution_count": null,
   "id": "1e79d1c1-a316-4899-a8a7-162706521bfd",
   "metadata": {},
   "outputs": [],
   "source": []
  }
 ],
 "metadata": {
  "kernelspec": {
   "display_name": "Python 3 (ipykernel)",
   "language": "python",
   "name": "python3"
  },
  "language_info": {
   "codemirror_mode": {
    "name": "ipython",
    "version": 3
   },
   "file_extension": ".py",
   "mimetype": "text/x-python",
   "name": "python",
   "nbconvert_exporter": "python",
   "pygments_lexer": "ipython3",
   "version": "3.10.8"
  }
 },
 "nbformat": 4,
 "nbformat_minor": 5
}
