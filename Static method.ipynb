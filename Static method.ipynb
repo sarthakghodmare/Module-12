{
 "cells": [
  {
   "cell_type": "code",
   "execution_count": 1,
   "id": "4a14c186-5823-4045-8764-571406b39cc5",
   "metadata": {},
   "outputs": [],
   "source": [
    "class pwskills:\n",
    "    \n",
    "    def student_details(self,name,email,number):\n",
    "        print(name,email,number)"
   ]
  },
  {
   "cell_type": "code",
   "execution_count": 2,
   "id": "17f38cf8-8e63-4f48-b774-4c655e2a6b35",
   "metadata": {},
   "outputs": [],
   "source": [
    "pw=pwskills()"
   ]
  },
  {
   "cell_type": "code",
   "execution_count": 3,
   "id": "429b1780-86c4-4311-8982-183fd5000629",
   "metadata": {},
   "outputs": [
    {
     "name": "stdout",
     "output_type": "stream",
     "text": [
      "sarthak sarthak@gmail.com 13438428\n"
     ]
    }
   ],
   "source": [
    "pw.student_details(\"sarthak\",\"sarthak@gmail.com\",13438428)"
   ]
  },
  {
   "cell_type": "code",
   "execution_count": 4,
   "id": "fd06eb1b-1005-4745-a514-5c703708af9e",
   "metadata": {},
   "outputs": [],
   "source": [
    "#we to crete function which we didnt crete object for function,"
   ]
  },
  {
   "cell_type": "code",
   "execution_count": 9,
   "id": "d18ad1b4-1aca-4731-8802-1c40f7492f48",
   "metadata": {},
   "outputs": [],
   "source": [
    "class pwskills1:\n",
    "    \n",
    "    def student_details(self,name,email,number):#in this function crete a obj because it is associate with class.\n",
    "        print(name,email,number)\n",
    "        \n",
    "    @staticmethod#this can also acess  using class.and canot bind as a class method. use to crete utility,if we want crete different utility function,which does not crete different function or object.then use ststic method.\n",
    "    def mentor_class(list_mentor):\n",
    "        print(\"the list of mentor:\",list_mentor)\n",
    "        \n",
    "    def mentor_class(mentor_list):\n",
    "        print(\"the list of mentor:\",mentor_list) #in this fun for all student we have to crete fun obj and it take times.\n",
    "        "
   ]
  },
  {
   "cell_type": "code",
   "execution_count": 6,
   "id": "1acd17d6-c97b-4f62-bbbe-f9504e69e456",
   "metadata": {},
   "outputs": [
    {
     "name": "stdout",
     "output_type": "stream",
     "text": [
      "the list of mentor: ['sarthak', 'kris']\n"
     ]
    }
   ],
   "source": [
    "pwskills1.mentor_class([\"sarthak\",\"kris\"])"
   ]
  },
  {
   "cell_type": "code",
   "execution_count": 7,
   "id": "5c350e2f-a3d3-448b-9738-479079ff5a2b",
   "metadata": {},
   "outputs": [],
   "source": [
    "stud1=pwskills1()#creting obj /or copy,we crete function obj  for each student,if we have 1lakh student we have to crete that much obj for fun.and memory consumption increseto avoid this we use ststic method."
   ]
  },
  {
   "cell_type": "code",
   "execution_count": 8,
   "id": "51a3def6-84d4-4b93-a524-0b5b994d591f",
   "metadata": {},
   "outputs": [],
   "source": [
    "stud2=pwskills1()"
   ]
  },
  {
   "cell_type": "code",
   "execution_count": 10,
   "id": "d7ac6722-d097-405e-8ed2-8a3590e5d5e1",
   "metadata": {},
   "outputs": [],
   "source": [
    "stud3=pwskills1()"
   ]
  },
  {
   "cell_type": "code",
   "execution_count": 13,
   "id": "dceda9b9-c1ff-4714-bebc-9b2d3b03c75b",
   "metadata": {},
   "outputs": [
    {
     "name": "stdout",
     "output_type": "stream",
     "text": [
      "the list of mentor: ['sarthak', 'kris']\n"
     ]
    }
   ],
   "source": [
    "stud1.mentor_class([\"sarthak\",\"kris\"])#this mentor is only avialable for stud1.it is wrong way,because  in general mentor is not avialable for only one student it is available for all.then we have to use stsatic method, "
   ]
  },
  {
   "cell_type": "code",
   "execution_count": 20,
   "id": "ef86164d-3fbb-4a95-8612-38d1ebb00b5a",
   "metadata": {},
   "outputs": [],
   "source": [
    "class pwskills2:\n",
    "    \n",
    "    def student_details(self,name,email,number):#in this function crete a obj because it is associate with class.\n",
    "        print(name,email,number)\n",
    "    \n",
    "    \n",
    "    @staticmethod#if we want to call static method in static method,then we to call mentor_mail in another static method.\n",
    "    def mentor_mail_id(list_mentor_email):\n",
    "        print(\"the list of mentor_id:\",list_mentor_email)\n",
    "        \n",
    "        \n",
    "    @staticmethod#this can also acess  using class.and canot bind as a class method. use to crete utility,if we want crete different utility function,which does not crete different function or object.then use ststic method.\n",
    "    def mentor_class(list_mentor):#insted of creting repetive fun, must use static method. to use static fun in other fun .we use class method.then pass. \n",
    "        pwskills2.mentor_mail_id([\"sarthak@gmail.com\",\"kris@gmail.com\"])\n",
    "        print(\"the list of mentor:\",list_mentor)\n",
    "        \n",
    "    @classmethod\n",
    "    def class_name(cls):#if we want to use ststic method in class method.\n",
    "        cls.mentor_class([\"sarthak\",\"kris\"])\n",
    "        \n",
    "        \n",
    "    def mentor(self,mentor_list):#how we can call stastic method in instance function.\n",
    "        print(\"the list of mentor:\",mentor_list) #in this fun for all student we have to crete fun obj and it take times.\n",
    "        self.mentor_class([\"sarthak\",\"kris\"]) #to call instance function it is necesarry to crete obj\n",
    "        "
   ]
  },
  {
   "cell_type": "code",
   "execution_count": 16,
   "id": "f575b725-130f-4f76-a60f-05244f19a5f8",
   "metadata": {},
   "outputs": [],
   "source": [
    "#how we use static method in class and other function.\n"
   ]
  },
  {
   "cell_type": "code",
   "execution_count": 17,
   "id": "4bb41bf8-fdc9-4b98-873c-1b8b8f476aa8",
   "metadata": {},
   "outputs": [
    {
     "ename": "TypeError",
     "evalue": "pwskills2.mentor_class() missing 1 required positional argument: 'mentor_list'",
     "output_type": "error",
     "traceback": [
      "\u001b[0;31m---------------------------------------------------------------------------\u001b[0m",
      "\u001b[0;31mTypeError\u001b[0m                                 Traceback (most recent call last)",
      "Cell \u001b[0;32mIn[17], line 2\u001b[0m\n\u001b[1;32m      1\u001b[0m \u001b[38;5;66;03m#calling\u001b[39;00m\n\u001b[0;32m----> 2\u001b[0m \u001b[43mpwskills2\u001b[49m\u001b[38;5;241;43m.\u001b[39;49m\u001b[43mclass_name\u001b[49m\u001b[43m(\u001b[49m\u001b[43m)\u001b[49m\n",
      "Cell \u001b[0;32mIn[15], line 12\u001b[0m, in \u001b[0;36mpwskills2.class_name\u001b[0;34m(cls)\u001b[0m\n\u001b[1;32m     10\u001b[0m \u001b[38;5;129m@classmethod\u001b[39m\n\u001b[1;32m     11\u001b[0m \u001b[38;5;28;01mdef\u001b[39;00m \u001b[38;5;21mclass_name\u001b[39m(\u001b[38;5;28mcls\u001b[39m):\u001b[38;5;66;03m#if we want to use ststic method in class method.\u001b[39;00m\n\u001b[0;32m---> 12\u001b[0m     \u001b[38;5;28;43mcls\u001b[39;49m\u001b[38;5;241;43m.\u001b[39;49m\u001b[43mmentor_class\u001b[49m\u001b[43m(\u001b[49m\u001b[43m)\u001b[49m\n",
      "\u001b[0;31mTypeError\u001b[0m: pwskills2.mentor_class() missing 1 required positional argument: 'mentor_list'"
     ]
    }
   ],
   "source": [
    "#calling\n",
    "pwskills2.class_name() #it show error because  in class _name we call mentor_class and mentor _class takes  list_mentor first give list_mentor in class_name."
   ]
  },
  {
   "cell_type": "code",
   "execution_count": 23,
   "id": "0155f9e8-9c6d-45bd-9110-10814b66ebfb",
   "metadata": {},
   "outputs": [
    {
     "name": "stdout",
     "output_type": "stream",
     "text": [
      "the list of mentor_id: ['sarthak@gmail.com', 'kris@gmail.com']\n",
      "the list of mentor: ['sarthak', 'kris']\n"
     ]
    }
   ],
   "source": [
    "pwskills2.mentor_class([\"sarthak\",\"kris\"])\n"
   ]
  },
  {
   "cell_type": "code",
   "execution_count": 24,
   "id": "bc61128b-a16a-430b-8f91-34c05e2d040d",
   "metadata": {},
   "outputs": [
    {
     "name": "stdout",
     "output_type": "stream",
     "text": [
      "the list of mentor_id: ['sarthak@gmail.com', 'kris@gmail.com']\n",
      "the list of mentor: ['sarthak', 'kris']\n"
     ]
    }
   ],
   "source": [
    "pwskills2.class_name()"
   ]
  },
  {
   "cell_type": "code",
   "execution_count": 27,
   "id": "6de77ae3-c63a-461a-b669-79e662812efc",
   "metadata": {},
   "outputs": [],
   "source": [
    "pw=pwskills2()#creting obj for instance obj."
   ]
  },
  {
   "cell_type": "code",
   "execution_count": 28,
   "id": "bf54683b-4e2e-4a75-b71f-9c535d44bf12",
   "metadata": {},
   "outputs": [
    {
     "ename": "TypeError",
     "evalue": "pwskills2.mentor() missing 1 required positional argument: 'mentor_list'",
     "output_type": "error",
     "traceback": [
      "\u001b[0;31m---------------------------------------------------------------------------\u001b[0m",
      "\u001b[0;31mTypeError\u001b[0m                                 Traceback (most recent call last)",
      "Cell \u001b[0;32mIn[28], line 1\u001b[0m\n\u001b[0;32m----> 1\u001b[0m \u001b[43mpw\u001b[49m\u001b[38;5;241;43m.\u001b[39;49m\u001b[43mmentor\u001b[49m\u001b[43m(\u001b[49m\u001b[43m)\u001b[49m\n",
      "\u001b[0;31mTypeError\u001b[0m: pwskills2.mentor() missing 1 required positional argument: 'mentor_list'"
     ]
    }
   ],
   "source": [
    "pw.mentor()"
   ]
  },
  {
   "cell_type": "code",
   "execution_count": 29,
   "id": "e8d7e475-30ee-4a01-843c-1b03b0d787e9",
   "metadata": {},
   "outputs": [
    {
     "name": "stdout",
     "output_type": "stream",
     "text": [
      "the list of mentor: ['sarthak', 'kris']\n",
      "the list of mentor_id: ['sarthak@gmail.com', 'kris@gmail.com']\n",
      "the list of mentor: ['sarthak', 'kris']\n"
     ]
    }
   ],
   "source": [
    "pw.mentor([\"sarthak\",\"kris\"])"
   ]
  },
  {
   "cell_type": "code",
   "execution_count": null,
   "id": "eb86411d-38be-4548-b111-74afabd39ace",
   "metadata": {},
   "outputs": [],
   "source": [
    "#static method is used in utility task or in repetative fun.like databse connectivityin optimize way we use sastic method.#what is satic method?how will do memory optimization?"
   ]
  }
 ],
 "metadata": {
  "kernelspec": {
   "display_name": "Python 3 (ipykernel)",
   "language": "python",
   "name": "python3"
  },
  "language_info": {
   "codemirror_mode": {
    "name": "ipython",
    "version": 3
   },
   "file_extension": ".py",
   "mimetype": "text/x-python",
   "name": "python",
   "nbconvert_exporter": "python",
   "pygments_lexer": "ipython3",
   "version": "3.10.8"
  }
 },
 "nbformat": 4,
 "nbformat_minor": 5
}
