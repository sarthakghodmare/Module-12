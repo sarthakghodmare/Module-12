{
 "cells": [
  {
   "cell_type": "code",
   "execution_count": 3,
   "id": "23f2b577-af52-4ed5-a485-bb19c1c4acd2",
   "metadata": {},
   "outputs": [],
   "source": [
    "class pwskills:\n",
    "    def __init__(self,course_price,course_name):\n",
    "        self.__course_price =course_price #_underscore is protected and __underscore private it is used to do private and public the variables.\n",
    "        self.course_name=course_name"
   ]
  },
  {
   "cell_type": "code",
   "execution_count": 8,
   "id": "442a9dd2-86cf-415a-8eaf-5bc87f7666c1",
   "metadata": {},
   "outputs": [],
   "source": [
    "pw=pwskills(3500,\"data science master\")"
   ]
  },
  {
   "cell_type": "code",
   "execution_count": 9,
   "id": "6bd40d98-a73c-4c9e-9b31-fd358d4d0333",
   "metadata": {},
   "outputs": [
    {
     "ename": "AttributeError",
     "evalue": "'pwskills' object has no attribute '__course_price'",
     "output_type": "error",
     "traceback": [
      "\u001b[0;31m---------------------------------------------------------------------------\u001b[0m",
      "\u001b[0;31mAttributeError\u001b[0m                            Traceback (most recent call last)",
      "Cell \u001b[0;32mIn[9], line 1\u001b[0m\n\u001b[0;32m----> 1\u001b[0m \u001b[43mpw\u001b[49m\u001b[38;5;241;43m.\u001b[39;49m\u001b[43m__course_price\u001b[49m\n",
      "\u001b[0;31mAttributeError\u001b[0m: 'pwskills' object has no attribute '__course_price'"
     ]
    }
   ],
   "source": [
    "pw.__course_price"
   ]
  },
  {
   "cell_type": "code",
   "execution_count": 7,
   "id": "c3edda11-045e-4832-bc5d-40685e367daf",
   "metadata": {},
   "outputs": [
    {
     "data": {
      "text/plain": [
       "3500"
      ]
     },
     "execution_count": 7,
     "metadata": {},
     "output_type": "execute_result"
    }
   ],
   "source": [
    "pw._pwskills__course_price#outsider can not see the course_price varible.we have do first give them _class name then it executed properly."
   ]
  },
  {
   "cell_type": "code",
   "execution_count": 6,
   "id": "0c360d1a-5ae6-435e-93d6-1f37f23cc5e5",
   "metadata": {},
   "outputs": [
    {
     "data": {
      "text/plain": [
       "'data science master'"
      ]
     },
     "execution_count": 6,
     "metadata": {},
     "output_type": "execute_result"
    }
   ],
   "source": [
    "pw.course_name#course_name can directly accesable to classm varible.class instance or class obj."
   ]
  },
  {
   "cell_type": "code",
   "execution_count": 10,
   "id": "21cfd964-a731-4f25-ac9b-f2ffc1518369",
   "metadata": {},
   "outputs": [],
   "source": [
    "#if we want to give course_price access to user to modfined it  then we have to use property decorator\n",
    "class pwskills:\n",
    "    def __init__(self,course_price,course_name):\n",
    "        self.__course_price =course_price #_underscore is protected and __underscore private it is used to do private and public the variables.\n",
    "        self.course_name=course_name\n",
    "    @property\n",
    "    def course_price_access(self):\n",
    "        return self.__course_price#using this decorator this _course_price expose even to the external user"
   ]
  },
  {
   "cell_type": "code",
   "execution_count": 11,
   "id": "947fbd72-9fab-4d2b-9654-83da44829df6",
   "metadata": {},
   "outputs": [],
   "source": [
    "pw=pwskills(3500,\"data science master\")"
   ]
  },
  {
   "cell_type": "code",
   "execution_count": 12,
   "id": "6c4d1a9f-ce8a-417f-8248-6389f12b303c",
   "metadata": {},
   "outputs": [
    {
     "data": {
      "text/plain": [
       "3500"
      ]
     },
     "execution_count": 12,
     "metadata": {},
     "output_type": "execute_result"
    }
   ],
   "source": [
    "pw.course_price_access #we can accesss couse_price by using course_price_access method. which was private variable ."
   ]
  },
  {
   "cell_type": "code",
   "execution_count": 13,
   "id": "2ed1fa57-b270-487d-a946-c70c831e2676",
   "metadata": {},
   "outputs": [],
   "source": [
    "\n",
    "class pwskills:\n",
    "    def __init__(self,course_price,course_name):\n",
    "        self.__course_price =course_price \n",
    "        self.course_name=course_name\n",
    "    @property\n",
    "    def course_price_access(self):\n",
    "        return self.__course_price\n",
    "    \n",
    "    @course_price_access.setter#to exopse for modifed we have to write acsess method.\n",
    "    def course_price_set(self,price):\n",
    "        if price<= 3500:\n",
    "            pass\n",
    "        else :\n",
    "            self.__course_price =price\n",
    "            \n",
    "    @course_price_access.deleter\n",
    "    def delete_course_price(self):\n",
    "        del self.__course_price\n",
    "            "
   ]
  },
  {
   "cell_type": "code",
   "execution_count": 14,
   "id": "fec89b91-ad85-489f-aec3-4b72ca8198d4",
   "metadata": {},
   "outputs": [],
   "source": [
    "pw=pwskills(3500,\"data science master\")"
   ]
  },
  {
   "cell_type": "code",
   "execution_count": 15,
   "id": "9e311b41-4c8e-4f97-8bd1-9d96c9846677",
   "metadata": {},
   "outputs": [
    {
     "data": {
      "text/plain": [
       "3500"
      ]
     },
     "execution_count": 15,
     "metadata": {},
     "output_type": "execute_result"
    }
   ],
   "source": [
    "pw.course_price_access"
   ]
  },
  {
   "cell_type": "code",
   "execution_count": 18,
   "id": "d338d01b-bb95-4592-a6b2-03848ea7168e",
   "metadata": {},
   "outputs": [],
   "source": [
    "pw.course_price_set=4500# aceess to external user to call functon course_price_set"
   ]
  },
  {
   "cell_type": "code",
   "execution_count": 19,
   "id": "028667f3-0c8d-49c4-96e2-acde64b571dc",
   "metadata": {},
   "outputs": [
    {
     "data": {
      "text/plain": [
       "4500"
      ]
     },
     "execution_count": 19,
     "metadata": {},
     "output_type": "execute_result"
    }
   ],
   "source": [
    "pw.course_price_access"
   ]
  },
  {
   "cell_type": "code",
   "execution_count": 20,
   "id": "345f0182-611b-4726-87d0-44534fff92fd",
   "metadata": {},
   "outputs": [],
   "source": [
    "\n",
    "class pwskills:\n",
    "    def __init__(self,course_price,course_name):\n",
    "        self.__course_price =course_price \n",
    "        self.course_name=course_name\n",
    "    @property\n",
    "    def course_price_access(self):\n",
    "        return self.__course_price\n",
    "    \n",
    "    @course_price_access.setter\n",
    "    def course_price_set(self,price):\n",
    "        if price<= 3500:\n",
    "            pass\n",
    "        else :\n",
    "            self.__course_price =price\n",
    "            \n",
    "    @course_price_access.deleter #it used to delete and accesable to extarnal user.\n",
    "    def delete_course_price(self):\n",
    "        del self.__course_price\n",
    "            "
   ]
  },
  {
   "cell_type": "code",
   "execution_count": 21,
   "id": "26a8d5fd-ddc7-4acf-b6c5-15201e444c3d",
   "metadata": {},
   "outputs": [],
   "source": [
    "pw=pwskills(3500,\"data science master\")"
   ]
  },
  {
   "cell_type": "code",
   "execution_count": 22,
   "id": "d653839d-2ce0-47b1-bef8-3e0e85997cd0",
   "metadata": {},
   "outputs": [
    {
     "data": {
      "text/plain": [
       "3500"
      ]
     },
     "execution_count": 22,
     "metadata": {},
     "output_type": "execute_result"
    }
   ],
   "source": [
    "pw.course_price_access"
   ]
  },
  {
   "cell_type": "code",
   "execution_count": 23,
   "id": "8c0fa330-ae29-46cc-9aa4-eb763eb6e71b",
   "metadata": {},
   "outputs": [],
   "source": [
    "del pw.delete_course_price"
   ]
  },
  {
   "cell_type": "code",
   "execution_count": 24,
   "id": "9a499628-29af-480e-8f13-43a3306385f3",
   "metadata": {},
   "outputs": [
    {
     "ename": "AttributeError",
     "evalue": "'pwskills' object has no attribute '_pwskills__course_price'",
     "output_type": "error",
     "traceback": [
      "\u001b[0;31m---------------------------------------------------------------------------\u001b[0m",
      "\u001b[0;31mAttributeError\u001b[0m                            Traceback (most recent call last)",
      "Cell \u001b[0;32mIn[24], line 1\u001b[0m\n\u001b[0;32m----> 1\u001b[0m \u001b[43mpw\u001b[49m\u001b[38;5;241;43m.\u001b[39;49m\u001b[43mcourse_price_access\u001b[49m\n",
      "Cell \u001b[0;32mIn[20], line 7\u001b[0m, in \u001b[0;36mpwskills.course_price_access\u001b[0;34m(self)\u001b[0m\n\u001b[1;32m      5\u001b[0m \u001b[38;5;129m@property\u001b[39m\n\u001b[1;32m      6\u001b[0m \u001b[38;5;28;01mdef\u001b[39;00m \u001b[38;5;21mcourse_price_access\u001b[39m(\u001b[38;5;28mself\u001b[39m):\n\u001b[0;32m----> 7\u001b[0m     \u001b[38;5;28;01mreturn\u001b[39;00m \u001b[38;5;28;43mself\u001b[39;49m\u001b[38;5;241;43m.\u001b[39;49m\u001b[43m__course_price\u001b[49m\n",
      "\u001b[0;31mAttributeError\u001b[0m: 'pwskills' object has no attribute '_pwskills__course_price'"
     ]
    }
   ],
   "source": [
    "pw.course_price_access"
   ]
  },
  {
   "cell_type": "code",
   "execution_count": null,
   "id": "af34dc06-0b3f-4067-acac-c2f292b50623",
   "metadata": {},
   "outputs": [],
   "source": [
    "# property decorator.it used to modifed and accesable to exteranl user\n",
    "#what is property decoartor? intrview question."
   ]
  }
 ],
 "metadata": {
  "kernelspec": {
   "display_name": "Python 3 (ipykernel)",
   "language": "python",
   "name": "python3"
  },
  "language_info": {
   "codemirror_mode": {
    "name": "ipython",
    "version": 3
   },
   "file_extension": ".py",
   "mimetype": "text/x-python",
   "name": "python",
   "nbconvert_exporter": "python",
   "pygments_lexer": "ipython3",
   "version": "3.10.8"
  }
 },
 "nbformat": 4,
 "nbformat_minor": 5
}
