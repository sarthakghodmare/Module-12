{
 "cells": [
  {
   "cell_type": "code",
   "execution_count": null,
   "id": "1ce133fc-2697-4d63-9d70-bb50a3e3f466",
   "metadata": {},
   "outputs": [],
   "source": [
    "#dectorator is used to beautify the functions."
   ]
  },
  {
   "cell_type": "code",
   "execution_count": 2,
   "id": "4251e175-1037-42a6-a0f8-cfdd02004157",
   "metadata": {},
   "outputs": [],
   "source": [
    "def test():\n",
    "    print(\"this is start of my function\") #in this case we have to write a function 4 times to reduce this or write one time then we have to use decorator.\n",
    "    print(\"this is my function to test\")\n",
    "    print(3+6)\n",
    "    print(\"this is end of my function\")"
   ]
  },
  {
   "cell_type": "code",
   "execution_count": 3,
   "id": "daca514e-4c3f-4578-9d34-4ebb772e0b9f",
   "metadata": {},
   "outputs": [
    {
     "name": "stdout",
     "output_type": "stream",
     "text": [
      "this is start of my function\n",
      "this is my function to test\n",
      "9\n",
      "this is end of my function\n"
     ]
    }
   ],
   "source": [
    "test()#function call"
   ]
  },
  {
   "cell_type": "code",
   "execution_count": 4,
   "id": "e9bca5d6-d811-4ec6-a5f7-2cedd3cbfbe6",
   "metadata": {},
   "outputs": [],
   "source": [
    "def deco(func): #we creted here function and in this function we creted another function.\n",
    "    def inner_dec():\n",
    "        print(\"this is start of my function\") \n",
    "        func()#pass the argument or call the function.\n",
    "        print(\"this is end of my function\")\n",
    "    return inner_dec"
   ]
  },
  {
   "cell_type": "code",
   "execution_count": 5,
   "id": "819927da-f786-4cb6-b0d9-20e0a12b8e85",
   "metadata": {},
   "outputs": [],
   "source": [
    "\n",
    "def test1(): \n",
    "    print(6+7)\n",
    "    "
   ]
  },
  {
   "cell_type": "code",
   "execution_count": 6,
   "id": "ba93d481-a004-40a6-8d15-cacb8e87d6f8",
   "metadata": {},
   "outputs": [
    {
     "name": "stdout",
     "output_type": "stream",
     "text": [
      "13\n"
     ]
    }
   ],
   "source": [
    "test1() #our requriemnt is print start and end function but it didnot done here. for this do @to decorator fun."
   ]
  },
  {
   "cell_type": "code",
   "execution_count": 7,
   "id": "2af0f65f-4e7b-4801-a6d1-62052f77c080",
   "metadata": {},
   "outputs": [],
   "source": [
    "@deco\n",
    "def test1(): #@ is use to ,first test 1 is pass in deco function and show the output which happen in deco function.means show satrt and end.\n",
    "    print(6+7)\n",
    "    "
   ]
  },
  {
   "cell_type": "code",
   "execution_count": 8,
   "id": "a1f52439-0721-49d1-bc7b-65c21c24ab56",
   "metadata": {},
   "outputs": [
    {
     "name": "stdout",
     "output_type": "stream",
     "text": [
      "this is start of my function\n",
      "13\n",
      "this is end of my function\n"
     ]
    }
   ],
   "source": [
    "test1()"
   ]
  },
  {
   "cell_type": "code",
   "execution_count": null,
   "id": "fbd0f0bd-77b4-40ca-bc9e-bb3c432a0f8b",
   "metadata": {},
   "outputs": [],
   "source": [
    "#what happen here first of all we call test1 function it call deco function by using @ and put test 1 insdide the deco function.whevertest1 fun goes inside the deco fun,then it execute inner_fun.then it print start fun,then call func(),and then print end func.and return inner_fun."
   ]
  },
  {
   "cell_type": "code",
   "execution_count": null,
   "id": "02d45f79-bfe5-44fc-a71a-efd8f718f90c",
   "metadata": {},
   "outputs": [],
   "source": [
    "#how much time is required to execute multiple fuction,scenario."
   ]
  },
  {
   "cell_type": "code",
   "execution_count": 9,
   "id": "eb2fb0c2-5c08-424a-a7a1-3d300c06333b",
   "metadata": {},
   "outputs": [],
   "source": [
    "import time#time package\n",
    "\n",
    "def time_test(func):#extranal function\n",
    "    def time_test_inner():\n",
    "        start =time.time()\n",
    "        func()\n",
    "        end=time.time()\n",
    "        print(end-start)\n",
    "    return time_test_inner\n",
    "        \n",
    "        "
   ]
  },
  {
   "cell_type": "code",
   "execution_count": 10,
   "id": "79edebb7-a003-4aca-be62-8b760f30fa91",
   "metadata": {},
   "outputs": [],
   "source": [
    "def test2():\n",
    "    print(4+5)"
   ]
  },
  {
   "cell_type": "code",
   "execution_count": 11,
   "id": "a800639d-8841-4f2d-b312-203387443c4f",
   "metadata": {},
   "outputs": [
    {
     "name": "stdout",
     "output_type": "stream",
     "text": [
      "9\n"
     ]
    }
   ],
   "source": [
    "test2() #if we call only this fun without using   @ then it only excute 9."
   ]
  },
  {
   "cell_type": "code",
   "execution_count": 12,
   "id": "6a24d3a0-16c6-472c-8bb8-cce17d2daf84",
   "metadata": {},
   "outputs": [],
   "source": [
    "@time_test\n",
    "def test2():\n",
    "    print(4+5)"
   ]
  },
  {
   "cell_type": "code",
   "execution_count": 13,
   "id": "9af9ca73-8405-4bc0-a563-8d97bd93adc8",
   "metadata": {},
   "outputs": [
    {
     "name": "stdout",
     "output_type": "stream",
     "text": [
      "9\n",
      "4.7206878662109375e-05\n"
     ]
    }
   ],
   "source": [
    "test2()"
   ]
  },
  {
   "cell_type": "code",
   "execution_count": 14,
   "id": "f8be3299-0a40-45dc-9b26-55064428509b",
   "metadata": {},
   "outputs": [],
   "source": [
    "@time_test\n",
    "def test3():\n",
    "    for i in range(10000000):\n",
    "        pass"
   ]
  },
  {
   "cell_type": "code",
   "execution_count": 15,
   "id": "c9590efa-4fd8-4df1-b49a-4e7222fc59c5",
   "metadata": {},
   "outputs": [
    {
     "name": "stdout",
     "output_type": "stream",
     "text": [
      "0.28537726402282715\n"
     ]
    }
   ],
   "source": [
    "test3()"
   ]
  },
  {
   "cell_type": "code",
   "execution_count": null,
   "id": "895b985a-3784-4b1d-997d-dc4cd365aa1e",
   "metadata": {},
   "outputs": [],
   "source": []
  }
 ],
 "metadata": {
  "kernelspec": {
   "display_name": "Python 3 (ipykernel)",
   "language": "python",
   "name": "python3"
  },
  "language_info": {
   "codemirror_mode": {
    "name": "ipython",
    "version": 3
   },
   "file_extension": ".py",
   "mimetype": "text/x-python",
   "name": "python",
   "nbconvert_exporter": "python",
   "pygments_lexer": "ipython3",
   "version": "3.10.8"
  }
 },
 "nbformat": 4,
 "nbformat_minor": 5
}
