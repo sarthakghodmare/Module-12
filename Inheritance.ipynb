{
 "cells": [
  {
   "cell_type": "code",
   "execution_count": 1,
   "id": "caf20d78-e692-466f-83c1-09289b4bcd27",
   "metadata": {},
   "outputs": [],
   "source": [
    "# as a child  we all from our paraent or from ancestor we are inheritated ,we have to use same variable,method,function in another class. without creting ,if we crete then it's code lenght and complexity increse,propertuy of parant class inherit in child class is called inheitance. "
   ]
  },
  {
   "cell_type": "code",
   "execution_count": 2,
   "id": "6e79da68-be79-43de-8774-cc0de5af322b",
   "metadata": {},
   "outputs": [],
   "source": [
    "class test:\n",
    "    def test_meth(self):\n",
    "        return \"this is my first class\""
   ]
  },
  {
   "cell_type": "code",
   "execution_count": 3,
   "id": "0860e3c7-1999-4c40-955b-e68f15ad6e92",
   "metadata": {},
   "outputs": [],
   "source": [
    "class child_test(test):#pass means no body define\n",
    "    pass"
   ]
  },
  {
   "cell_type": "code",
   "execution_count": 4,
   "id": "d1afef0e-f065-40e8-ae78-0f81bcb6996f",
   "metadata": {},
   "outputs": [],
   "source": [
    "child_test_obj=child_test() #creting object of child class  which call test class,child class"
   ]
  },
  {
   "cell_type": "code",
   "execution_count": 5,
   "id": "ad24370c-b050-47e1-866b-14b9fe8040ed",
   "metadata": {},
   "outputs": [
    {
     "data": {
      "text/plain": [
       "'this is my first class'"
      ]
     },
     "execution_count": 5,
     "metadata": {},
     "output_type": "execute_result"
    }
   ],
   "source": [
    "child_test_obj.test_meth() #test method invoke here, we crete child class and invoke parent class test method. child class inherited the parent class property"
   ]
  },
  {
   "cell_type": "code",
   "execution_count": 6,
   "id": "59b677c7-59e3-4424-8541-480054abfb98",
   "metadata": {},
   "outputs": [],
   "source": [
    "#the class which child class is inherited proprty of parent class, and grandparent class and parent class inherited the property of grandparent class is called multilebel inheritance."
   ]
  },
  {
   "cell_type": "code",
   "execution_count": 7,
   "id": "911dab42-9062-42a3-a5c3-48f2804ce103",
   "metadata": {},
   "outputs": [],
   "source": [
    "class class1:\n",
    "    def test_class1(self):\n",
    "        return \"this is my class1 method\""
   ]
  },
  {
   "cell_type": "code",
   "execution_count": 8,
   "id": "4424b9ad-0fe0-40a0-8e07-0e3bf17584b3",
   "metadata": {},
   "outputs": [],
   "source": [
    "class class2(class1):\n",
    "    def test_class2(self):\n",
    "        return \"this is mu class2 method\"\n",
    "    \n",
    "    \n",
    "    "
   ]
  },
  {
   "cell_type": "code",
   "execution_count": 9,
   "id": "0a344487-b5e4-4db7-afc4-a0959fbbc052",
   "metadata": {},
   "outputs": [],
   "source": [
    "class class3(class2):\n",
    "    pass\n",
    "    "
   ]
  },
  {
   "cell_type": "code",
   "execution_count": 17,
   "id": "4ed36618-7e3a-408d-976c-a9e54747755b",
   "metadata": {},
   "outputs": [],
   "source": [
    "#creting obj\n",
    "obj_class3=class3()"
   ]
  },
  {
   "cell_type": "code",
   "execution_count": 18,
   "id": "26c3d8b3-3587-4d6a-93fc-e858a1491d6d",
   "metadata": {},
   "outputs": [
    {
     "data": {
      "text/plain": [
       "'this is my class1 method'"
      ]
     },
     "execution_count": 18,
     "metadata": {},
     "output_type": "execute_result"
    }
   ],
   "source": [
    "obj_class3.test_class1() #we inherited here propert of class 1 by class 3"
   ]
  },
  {
   "cell_type": "code",
   "execution_count": 19,
   "id": "5bd9bdf2-48bf-46d0-9a17-1e33e8f785ec",
   "metadata": {},
   "outputs": [
    {
     "data": {
      "text/plain": [
       "'this is mu class2 method'"
      ]
     },
     "execution_count": 19,
     "metadata": {},
     "output_type": "execute_result"
    }
   ],
   "source": [
    "obj_class3.test_class2() #we inherited here propert of class 2 by class 3"
   ]
  },
  {
   "cell_type": "code",
   "execution_count": 21,
   "id": "61ce4eb7-2af7-4c93-a517-a8a33fbe05b9",
   "metadata": {},
   "outputs": [],
   "source": [
    "#two parent class property is inheritated by child class is called as multiple inheritance"
   ]
  },
  {
   "cell_type": "code",
   "execution_count": 22,
   "id": "27dbd9ed-866f-4212-bdca-61615877b833",
   "metadata": {},
   "outputs": [],
   "source": [
    "class class1:\n",
    "    def test_class1(self):\n",
    "        return \"this is my class 1\""
   ]
  },
  {
   "cell_type": "code",
   "execution_count": 23,
   "id": "5c1b0428-82cc-4d9a-826d-10291533e489",
   "metadata": {},
   "outputs": [],
   "source": [
    "class class2:\n",
    "    def test_class2(self):\n",
    "        return \"this is my class 2\""
   ]
  },
  {
   "cell_type": "code",
   "execution_count": 24,
   "id": "2bc78966-d459-4815-ba12-5a6d134d0c2a",
   "metadata": {},
   "outputs": [],
   "source": [
    "class class3(class1,class2):\n",
    "    pass"
   ]
  },
  {
   "cell_type": "code",
   "execution_count": 25,
   "id": "c2bbd0c1-3777-4b5c-92ae-f0a5e2922606",
   "metadata": {},
   "outputs": [],
   "source": [
    "obj_class3=class3()"
   ]
  },
  {
   "cell_type": "code",
   "execution_count": 26,
   "id": "90740d98-e014-4bf7-8e63-086f353137da",
   "metadata": {},
   "outputs": [
    {
     "data": {
      "text/plain": [
       "'this is my class 1'"
      ]
     },
     "execution_count": 26,
     "metadata": {},
     "output_type": "execute_result"
    }
   ],
   "source": [
    "obj_class3.test_class1()"
   ]
  },
  {
   "cell_type": "code",
   "execution_count": 27,
   "id": "8ffc79fb-67af-4a77-b3da-ed79cb365550",
   "metadata": {},
   "outputs": [
    {
     "data": {
      "text/plain": [
       "'this is my class 2'"
      ]
     },
     "execution_count": 27,
     "metadata": {},
     "output_type": "execute_result"
    }
   ],
   "source": [
    "obj_class3.test_class2()"
   ]
  },
  {
   "cell_type": "code",
   "execution_count": null,
   "id": "7d8fa1ff-b364-4843-aa53-661ac54197ec",
   "metadata": {},
   "outputs": [],
   "source": []
  }
 ],
 "metadata": {
  "kernelspec": {
   "display_name": "Python 3 (ipykernel)",
   "language": "python",
   "name": "python3"
  },
  "language_info": {
   "codemirror_mode": {
    "name": "ipython",
    "version": 3
   },
   "file_extension": ".py",
   "mimetype": "text/x-python",
   "name": "python",
   "nbconvert_exporter": "python",
   "pygments_lexer": "ipython3",
   "version": "3.10.8"
  }
 },
 "nbformat": 4,
 "nbformat_minor": 5
}
