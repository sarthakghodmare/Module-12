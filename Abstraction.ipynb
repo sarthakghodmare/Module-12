{
 "cells": [
  {
   "cell_type": "code",
   "execution_count": null,
   "id": "50d710f7-b21c-4cf1-9555-f81566639fc1",
   "metadata": {},
   "outputs": [],
   "source": [
    "#to crete skelton or outline we used abstraction."
   ]
  },
  {
   "cell_type": "code",
   "execution_count": 1,
   "id": "cd63330b-1396-4c6d-8a57-d4ea368cf183",
   "metadata": {},
   "outputs": [],
   "source": [
    "import abc\n",
    "class pwskills: \n",
    "    @abc.abstractmethod #decorate,it use in whenever we inherited pwskills class his all method is avialable in another class.then we give definationn according to new class.\n",
    "    def student_details(self):\n",
    "        pass\n",
    "    @abc.abstractmethod\n",
    "    def student_assignment(self):\n",
    "        pass\n",
    "    \n",
    "    @abc.abstractmethod\n",
    "    def student_marks(self):\n",
    "        pass\n",
    "    \n",
    "        #if new class data scince then it use property of pwskills class."
   ]
  },
  {
   "cell_type": "code",
   "execution_count": 2,
   "id": "285991bb-1793-4659-b98f-c727a28a26dd",
   "metadata": {},
   "outputs": [
    {
     "data": {
      "text/plain": [
       "<function abc.abstractmethod(funcobj)>"
      ]
     },
     "execution_count": 2,
     "metadata": {},
     "output_type": "execute_result"
    }
   ],
   "source": [
    "abc.abstractmethod#it alredy given provision of abstract method"
   ]
  },
  {
   "cell_type": "code",
   "execution_count": 4,
   "id": "0aa3fa1b-64c9-4345-ad98-1c78ef1ffef5",
   "metadata": {},
   "outputs": [],
   "source": [
    "class student_details(pwskills):#if we inherite pwskills property by useing this class then pwskills all method is avilable in this class,.\n",
    "    \n",
    "    def student_details(self):# giving own defintion\n",
    "        return \"this is meth of taking detials of student details\"\n",
    "        \n",
    "    def student_assignment(self):\n",
    "        return \"this is meth of taking assignment of student\"\n",
    "    \n",
    "    def student_marks(self):\n",
    "        return \"this is meth of taking marks of student\""
   ]
  },
  {
   "cell_type": "code",
   "execution_count": 5,
   "id": "ff4b869a-ace1-4ba7-ad4f-f37ead741ff9",
   "metadata": {},
   "outputs": [],
   "source": [
    "class data_science_master(pwskills):\n",
    "    \n",
    "    def student_details(self):\n",
    "        return \"this is meth of taking detials of student for data _scince master\"\n",
    "    \n",
    "    def student_assignment(self):\n",
    "        return \"this is meth of taking assignment of student for data_science_master\"\n",
    "    \n",
    "    def student_marks(self):\n",
    "        return \"this is meth of taking marks of student for data _science_master\"\n",
    "    \n",
    "    \n",
    "  #we can give our own definition whenever we want  \n",
    "    "
   ]
  },
  {
   "cell_type": "code",
   "execution_count": 7,
   "id": "160f47b7-3da9-46f1-9525-12d92ec908c5",
   "metadata": {},
   "outputs": [
    {
     "data": {
      "text/plain": [
       "'this is meth of taking detials of student for data _scince master'"
      ]
     },
     "execution_count": 7,
     "metadata": {},
     "output_type": "execute_result"
    }
   ],
   "source": [
    "data_sciene_master_obj=data_science_master()\n",
    "data_sciene_master_obj.student_details()"
   ]
  },
  {
   "cell_type": "code",
   "execution_count": 8,
   "id": "16bc592f-e679-4761-8326-2a80829568cf",
   "metadata": {},
   "outputs": [
    {
     "data": {
      "text/plain": [
       "'this is meth of taking assignment of student for data_science_master'"
      ]
     },
     "execution_count": 8,
     "metadata": {},
     "output_type": "execute_result"
    }
   ],
   "source": [
    "data_sciene_master_obj=data_science_master()\n",
    "data_sciene_master_obj.student_assignment()"
   ]
  },
  {
   "cell_type": "code",
   "execution_count": 9,
   "id": "fbfefa90-97cf-4d16-bd74-aa8fe7103b4e",
   "metadata": {},
   "outputs": [
    {
     "data": {
      "text/plain": [
       "'this is meth of taking assignment of student'"
      ]
     },
     "execution_count": 9,
     "metadata": {},
     "output_type": "execute_result"
    }
   ],
   "source": [
    "student_details_obj=student_details()\n",
    "student_details_obj.student_assignment()\n"
   ]
  },
  {
   "cell_type": "code",
   "execution_count": 10,
   "id": "4a437d8e-4c83-4f52-afbe-a0613c6242bc",
   "metadata": {},
   "outputs": [
    {
     "data": {
      "text/plain": [
       "'this is meth of taking marks of student'"
      ]
     },
     "execution_count": 10,
     "metadata": {},
     "output_type": "execute_result"
    }
   ],
   "source": [
    "student_details_obj=student_details()\n",
    "student_details_obj.stydent_marks() "
   ]
  },
  {
   "cell_type": "code",
   "execution_count": null,
   "id": "d4df4a83-d9e9-4349-b5a4-f41848e5bd2d",
   "metadata": {},
   "outputs": [],
   "source": [
    "#in skelton class we does not give any definition,we give defintion in next 2 classes ,we make skelton class abstracted clas"
   ]
  }
 ],
 "metadata": {
  "kernelspec": {
   "display_name": "Python 3 (ipykernel)",
   "language": "python",
   "name": "python3"
  },
  "language_info": {
   "codemirror_mode": {
    "name": "ipython",
    "version": 3
   },
   "file_extension": ".py",
   "mimetype": "text/x-python",
   "name": "python",
   "nbconvert_exporter": "python",
   "pygments_lexer": "ipython3",
   "version": "3.10.8"
  }
 },
 "nbformat": 4,
 "nbformat_minor": 5
}
