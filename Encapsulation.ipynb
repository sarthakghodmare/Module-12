{
 "cells": [
  {
   "cell_type": "code",
   "execution_count": 23,
   "id": "1d5a31d4-9e3c-4015-a02a-34e4ae03cbfe",
   "metadata": {},
   "outputs": [],
   "source": [
    "class test:\n",
    "    def __init__ (self,a,b):\n",
    "        self.a=a\n",
    "        self.b=b"
   ]
  },
  {
   "cell_type": "code",
   "execution_count": 24,
   "id": "3645977a-9eb6-43c5-9646-3627dab606aa",
   "metadata": {},
   "outputs": [],
   "source": [
    "t = test(23,24)"
   ]
  },
  {
   "cell_type": "code",
   "execution_count": 25,
   "id": "1ef0a6a2-6dd0-475b-ab8e-8e35cfdbac4f",
   "metadata": {},
   "outputs": [],
   "source": [
    "t.a=78676\n"
   ]
  },
  {
   "cell_type": "code",
   "execution_count": 26,
   "id": "f61d91d5-9547-41f6-900e-0d9304bcee8c",
   "metadata": {},
   "outputs": [
    {
     "data": {
      "text/plain": [
       "78676"
      ]
     },
     "execution_count": 26,
     "metadata": {},
     "output_type": "execute_result"
    }
   ],
   "source": [
    "t.a #how will prevent this ,encpsulation used to hide variable or data from user,we want our class internal structure safe we doesnot want to modify it , then we have to use encapsulation\n",
    "#for example in capsule we does not know capsule internal structure we know it only cure disease.we want to user only external structure we does not want to show inner compostion."
   ]
  },
  {
   "cell_type": "code",
   "execution_count": 9,
   "id": "c40e453b-2be9-492f-a3fe-43ec21ae22d2",
   "metadata": {},
   "outputs": [
    {
     "ename": "SyntaxError",
     "evalue": "incomplete input (868204574.py, line 8)",
     "output_type": "error",
     "traceback": [
      "\u001b[0;36m  Cell \u001b[0;32mIn[9], line 8\u001b[0;36m\u001b[0m\n\u001b[0;31m    def set_speed(speed):\u001b[0m\n\u001b[0m                         ^\u001b[0m\n\u001b[0;31mSyntaxError\u001b[0m\u001b[0;31m:\u001b[0m incomplete input\n"
     ]
    }
   ],
   "source": [
    "class car:\n",
    "    def __init__ (self,year ,make,model, speed):\n",
    "        self.__year=year #if use__year then compiled know that,then class variable hide from user\n",
    "        self.__make=make\n",
    "        self.__model=model\n",
    "        self.__speed=0#if we decalre __it use as private variable.\n",
    "        \n",
    "    def set_speed(slef.speed):"
   ]
  },
  {
   "cell_type": "code",
   "execution_count": 3,
   "id": "e8dae9f5-6b3d-4350-b42e-136d22757d9b",
   "metadata": {},
   "outputs": [],
   "source": [
    "c=car(2023,\"toyta\",\"innova\",12)"
   ]
  },
  {
   "cell_type": "code",
   "execution_count": 4,
   "id": "7f741c03-5209-48a7-8f4f-8fea90f17cc0",
   "metadata": {},
   "outputs": [
    {
     "ename": "AttributeError",
     "evalue": "'car' object has no attribute 'year'",
     "output_type": "error",
     "traceback": [
      "\u001b[0;31m---------------------------------------------------------------------------\u001b[0m",
      "\u001b[0;31mAttributeError\u001b[0m                            Traceback (most recent call last)",
      "Cell \u001b[0;32mIn[4], line 1\u001b[0m\n\u001b[0;32m----> 1\u001b[0m \u001b[43mc\u001b[49m\u001b[38;5;241;43m.\u001b[39;49m\u001b[43myear\u001b[49m\n",
      "\u001b[0;31mAttributeError\u001b[0m: 'car' object has no attribute 'year'"
     ]
    }
   ],
   "source": [
    "c.year  #. does not work here because we denote in private function"
   ]
  },
  {
   "cell_type": "code",
   "execution_count": 6,
   "id": "2d8a8495-e00b-41fc-8460-b3901db3a118",
   "metadata": {},
   "outputs": [
    {
     "ename": "AttributeError",
     "evalue": "'car' object has no attribute '__year'",
     "output_type": "error",
     "traceback": [
      "\u001b[0;31m---------------------------------------------------------------------------\u001b[0m",
      "\u001b[0;31mAttributeError\u001b[0m                            Traceback (most recent call last)",
      "Cell \u001b[0;32mIn[6], line 1\u001b[0m\n\u001b[0;32m----> 1\u001b[0m \u001b[43mc\u001b[49m\u001b[38;5;241;43m.\u001b[39;49m\u001b[43m__year\u001b[49m\n",
      "\u001b[0;31mAttributeError\u001b[0m: 'car' object has no attribute '__year'"
     ]
    }
   ],
   "source": [
    "c.__year"
   ]
  },
  {
   "cell_type": "code",
   "execution_count": 8,
   "id": "8b3d61bc-23a5-48fd-bb01-59494e187191",
   "metadata": {},
   "outputs": [
    {
     "data": {
      "text/plain": [
       "2023"
      ]
     },
     "execution_count": 8,
     "metadata": {},
     "output_type": "execute_result"
    }
   ],
   "source": [
    "c._car__year #encapsulates #we do this here but generally user can not know.to do this we use set or get."
   ]
  },
  {
   "cell_type": "code",
   "execution_count": 14,
   "id": "a3045633-09fa-421d-9eeb-f2398d87bcc2",
   "metadata": {},
   "outputs": [],
   "source": [
    "class car:\n",
    "    def __init__ (self,year ,make,model, speed):\n",
    "        self.__year=year #if use__year then compiled know that,then class variable hide from user\n",
    "        self.__make=make\n",
    "        self.__model=model\n",
    "        self.__speed=0#if we decalre __it use as private variable.  #we hide inner compsitionn .we only show get and set\n",
    "        \n",
    "    def set_speed(self,speed): #we use coustme method\n",
    "        self.__speed =0 if speed < 0 else speed #public function #if we to donot do set and get then do not write get and set\n",
    "        \n",
    "    def get_speed(self):\n",
    "        return self.__speed\n",
    "        "
   ]
  },
  {
   "cell_type": "code",
   "execution_count": 15,
   "id": "9bf7b215-25d9-4cfb-b96b-5166f5f93d85",
   "metadata": {},
   "outputs": [],
   "source": [
    "c=car(2023,\"toyta\",\"innova\",12)"
   ]
  },
  {
   "cell_type": "code",
   "execution_count": 16,
   "id": "e9919f49-cb2e-41e6-9b94-5b7e750de0da",
   "metadata": {},
   "outputs": [],
   "source": [
    "c.set_speed(-453)#. is enable here because it declare in public function"
   ]
  },
  {
   "cell_type": "code",
   "execution_count": 17,
   "id": "1291949f-66d5-4ecf-8b18-7252995da1bf",
   "metadata": {},
   "outputs": [
    {
     "data": {
      "text/plain": [
       "0"
      ]
     },
     "execution_count": 17,
     "metadata": {},
     "output_type": "execute_result"
    }
   ],
   "source": [
    "c.get_speed()"
   ]
  },
  {
   "cell_type": "code",
   "execution_count": 18,
   "id": "5272caa5-01fe-4635-af15-6aa81eade5ae",
   "metadata": {},
   "outputs": [],
   "source": [
    "c.set_speed(9)"
   ]
  },
  {
   "cell_type": "code",
   "execution_count": 19,
   "id": "786f3f38-ced6-47da-9068-ea216c0e85f3",
   "metadata": {},
   "outputs": [
    {
     "data": {
      "text/plain": [
       "9"
      ]
     },
     "execution_count": 19,
     "metadata": {},
     "output_type": "execute_result"
    }
   ],
   "source": [
    "c.get_speed()"
   ]
  },
  {
   "cell_type": "code",
   "execution_count": 25,
   "id": "883fa2dc-35a3-4e66-95a4-1f84da4ab007",
   "metadata": {},
   "outputs": [],
   "source": [
    "class bank_account:\n",
    "    def __init__(self,balance):#we want nobody want to see our balance \n",
    "        self.__balance=balance\n",
    "        \n",
    "    def deposite(self,amount):\n",
    "        self.__balance=self.__balance+amount#1st self.__balance update,here deposite call then it pass amount, that is reamain balance,2nd self.__balance +amount then new balaance update\n",
    "    \n",
    "    def withdaw(self,amount):\n",
    "        if self.__balance >= amount:\n",
    "            self.__balance=self.__balance-amount #in withdrw case we - remain balance - amount # we update using function\n",
    "            return True\n",
    "        else:\n",
    "            return False\n",
    "    def get_balance(self):\n",
    "        return self.__balance\n",
    "    "
   ]
  },
  {
   "cell_type": "code",
   "execution_count": 26,
   "id": "16bde2d3-90e0-4289-b0d7-acfc2e21ea10",
   "metadata": {},
   "outputs": [],
   "source": [
    "#creting object\n",
    "sarthak= bank_account(1000)#bank_account  is variable "
   ]
  },
  {
   "cell_type": "code",
   "execution_count": 28,
   "id": "17ea2f71-ee63-4cea-aec5-34244977021f",
   "metadata": {},
   "outputs": [
    {
     "data": {
      "text/plain": [
       "1000"
      ]
     },
     "execution_count": 28,
     "metadata": {},
     "output_type": "execute_result"
    }
   ],
   "source": [
    "sarthak.get_balance() # we only accwss here public function"
   ]
  },
  {
   "cell_type": "code",
   "execution_count": 29,
   "id": "43779bd7-ad71-4331-99de-e7389cae0441",
   "metadata": {},
   "outputs": [],
   "source": [
    "sarthak.deposite(55000)"
   ]
  },
  {
   "cell_type": "code",
   "execution_count": 30,
   "id": "5190c78f-39db-46f7-9f71-c2d74c7c8100",
   "metadata": {},
   "outputs": [
    {
     "data": {
      "text/plain": [
       "56000"
      ]
     },
     "execution_count": 30,
     "metadata": {},
     "output_type": "execute_result"
    }
   ],
   "source": [
    "sarthak.get_balance()"
   ]
  },
  {
   "cell_type": "code",
   "execution_count": 31,
   "id": "b0279f1e-e740-4782-acf4-c80e9580c22e",
   "metadata": {},
   "outputs": [],
   "source": [
    "sarthak.deposite(10000)"
   ]
  },
  {
   "cell_type": "code",
   "execution_count": 32,
   "id": "5b9b57c1-043b-45f1-bbc1-4f6cae8a7b0a",
   "metadata": {},
   "outputs": [
    {
     "data": {
      "text/plain": [
       "66000"
      ]
     },
     "execution_count": 32,
     "metadata": {},
     "output_type": "execute_result"
    }
   ],
   "source": [
    "sarthak.get_balance()"
   ]
  },
  {
   "cell_type": "code",
   "execution_count": 33,
   "id": "81b0a4b1-9d14-4220-930e-d94d240d4342",
   "metadata": {},
   "outputs": [
    {
     "data": {
      "text/plain": [
       "False"
      ]
     },
     "execution_count": 33,
     "metadata": {},
     "output_type": "execute_result"
    }
   ],
   "source": [
    "sarthak.withdaw(90000)"
   ]
  },
  {
   "cell_type": "code",
   "execution_count": 36,
   "id": "5e0b0f73-3485-4be5-a151-bddfda72ea48",
   "metadata": {},
   "outputs": [
    {
     "data": {
      "text/plain": [
       "True"
      ]
     },
     "execution_count": 36,
     "metadata": {},
     "output_type": "execute_result"
    }
   ],
   "source": [
    "sarthak.withdaw(2000)\n"
   ]
  },
  {
   "cell_type": "code",
   "execution_count": 37,
   "id": "c9b101fd-ab50-463b-aebc-2d4e43487a46",
   "metadata": {},
   "outputs": [
    {
     "data": {
      "text/plain": [
       "64000"
      ]
     },
     "execution_count": 37,
     "metadata": {},
     "output_type": "execute_result"
    }
   ],
   "source": [
    "sarthak.get_balance()"
   ]
  },
  {
   "cell_type": "code",
   "execution_count": null,
   "id": "2718c148-587a-4b6f-9e05-adba76b45c40",
   "metadata": {},
   "outputs": [],
   "source": [
    "#user does not give directly accesss to variable user does not have any access it only have prevelage to call public function and update it.#to hide implementation /compostion/private function use __."
   ]
  }
 ],
 "metadata": {
  "kernelspec": {
   "display_name": "Python 3 (ipykernel)",
   "language": "python",
   "name": "python3"
  },
  "language_info": {
   "codemirror_mode": {
    "name": "ipython",
    "version": 3
   },
   "file_extension": ".py",
   "mimetype": "text/x-python",
   "name": "python",
   "nbconvert_exporter": "python",
   "pygments_lexer": "ipython3",
   "version": "3.10.8"
  }
 },
 "nbformat": 4,
 "nbformat_minor": 5
}
